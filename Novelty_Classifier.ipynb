{
 "cells": [
  {
   "cell_type": "code",
   "execution_count": 25,
   "metadata": {
    "collapsed": true
   },
   "outputs": [],
   "source": [
    "%matplotlib inline\n",
    "import matplotlib.pyplot as plt\n",
    "import matplotlib.cm as cm\n",
    "\n",
    "import os\n",
    "import numpy as np\n",
    "import pandas as pd\n",
    "from sklearn.feature_extraction.text import TfidfVectorizer\n",
    "from sklearn.svm import OneClassSVM"
   ]
  },
  {
   "cell_type": "code",
   "execution_count": 42,
   "metadata": {},
   "outputs": [
    {
     "name": "stdout",
     "output_type": "stream",
     "text": [
      "   637811 swab_seqs/SRS015895seq.csv\n",
      "   652089 swab_seqs/SRS017537seq.csv\n",
      "   139795 swab_seqs/SRS018661seq.csv\n",
      "   380992 swab_seqs/SRS019024seq.csv\n",
      "   632243 swab_seqs/SRS019329seq.csv\n",
      "  2442930 total\n"
     ]
    }
   ],
   "source": [
    "!wc -l swab_seqs/*"
   ]
  },
  {
   "cell_type": "code",
   "execution_count": 13,
   "metadata": {},
   "outputs": [
    {
     "name": "stdout",
     "output_type": "stream",
     "text": [
      "class,gen_seq,unique_id\r\n"
     ]
    }
   ],
   "source": [
    "!head -n 1 swab_seqs/SRS015895seq.csv"
   ]
  },
  {
   "cell_type": "code",
   "execution_count": 14,
   "metadata": {},
   "outputs": [
    {
     "name": "stdout",
     "output_type": "stream",
     "text": [
      "g_s,genome,tag\r\n"
     ]
    }
   ],
   "source": [
    "!head -n 1 c4_bacterial_genome.csv"
   ]
  },
  {
   "cell_type": "code",
   "execution_count": 41,
   "metadata": {},
   "outputs": [
    {
     "name": "stdout",
     "output_type": "stream",
     "text": [
      "2442925\n",
      "2443268\n"
     ]
    },
    {
     "data": {
      "text/html": [
       "<div>\n",
       "<style>\n",
       "    .dataframe thead tr:only-child th {\n",
       "        text-align: right;\n",
       "    }\n",
       "\n",
       "    .dataframe thead th {\n",
       "        text-align: left;\n",
       "    }\n",
       "\n",
       "    .dataframe tbody tr th {\n",
       "        vertical-align: top;\n",
       "    }\n",
       "</style>\n",
       "<table border=\"1\" class=\"dataframe\">\n",
       "  <thead>\n",
       "    <tr style=\"text-align: right;\">\n",
       "      <th></th>\n",
       "      <th>CLASS</th>\n",
       "      <th>GEN_SEQ</th>\n",
       "    </tr>\n",
       "  </thead>\n",
       "  <tbody>\n",
       "    <tr>\n",
       "      <th>0</th>\n",
       "      <td>unknown</td>\n",
       "      <td>AAGACGCATCAAACATAGCAAAACGTTTTGCATTCTCAACCGCACT...</td>\n",
       "    </tr>\n",
       "    <tr>\n",
       "      <th>1</th>\n",
       "      <td>unknown</td>\n",
       "      <td>AAATTATGCATATTACGCTTTGCATAAATTTAGGTGGACACCATCC...</td>\n",
       "    </tr>\n",
       "    <tr>\n",
       "      <th>2</th>\n",
       "      <td>unknown</td>\n",
       "      <td>GCTGCTTTATCAGCGAAACGCTGACTTATGCCATCAACGAGCTGAA...</td>\n",
       "    </tr>\n",
       "    <tr>\n",
       "      <th>3</th>\n",
       "      <td>unknown</td>\n",
       "      <td>CACGCCCCTTGCCGTGCAGGGGGTAGGGACGAGCTGATAAGTACTC...</td>\n",
       "    </tr>\n",
       "    <tr>\n",
       "      <th>4</th>\n",
       "      <td>unknown</td>\n",
       "      <td>GTATCGGGAATGTCGTGATCGCACCAAATACGAAATACCTCACTGA...</td>\n",
       "    </tr>\n",
       "  </tbody>\n",
       "</table>\n",
       "</div>"
      ],
      "text/plain": [
       "     CLASS                                            GEN_SEQ\n",
       "0  unknown  AAGACGCATCAAACATAGCAAAACGTTTTGCATTCTCAACCGCACT...\n",
       "1  unknown  AAATTATGCATATTACGCTTTGCATAAATTTAGGTGGACACCATCC...\n",
       "2  unknown  GCTGCTTTATCAGCGAAACGCTGACTTATGCCATCAACGAGCTGAA...\n",
       "3  unknown  CACGCCCCTTGCCGTGCAGGGGGTAGGGACGAGCTGATAAGTACTC...\n",
       "4  unknown  GTATCGGGAATGTCGTGATCGCACCAAATACGAAATACCTCACTGA..."
      ]
     },
     "execution_count": 41,
     "metadata": {},
     "output_type": "execute_result"
    }
   ],
   "source": [
    "full = pd.DataFrame(columns=['CLASS','GEN_SEQ'])\n",
    "swab_base = './swab_seqs/'\n",
    "for file in os.listdir(swab_base):\n",
    "    i = 0\n",
    "    for df in pd.read_csv(swab_base+file, chunksize=10**5):\n",
    "        size = len(df)\n",
    "        full = full.append(pd.DataFrame({'CLASS':['unknown']*size, 'GEN_SEQ': df.gen_seq.values}))\n",
    "\n",
    "print(len(full))\n",
    "for df in pd.read_csv('c4_bacterial_genome.csv', chunksize=10**5):\n",
    "    size = len(df)\n",
    "    full = full.append(pd.DataFrame({'CLASS':['bacteria']*size, 'GEN_SEQ': df.genome.values}))\n",
    "print(len(full))\n",
    "full = full.reset_index(drop=True)\n",
    "full.head()"
   ]
  },
  {
   "cell_type": "code",
   "execution_count": 44,
   "metadata": {},
   "outputs": [
    {
     "name": "stdout",
     "output_type": "stream",
     "text": [
      "CPU times: user 6min 6s, sys: 14.6 s, total: 6min 20s\n",
      "Wall time: 6min 20s\n"
     ]
    }
   ],
   "source": [
    "vec = TfidfVectorizer(analyzer='char', ngram_range=(5,5))\n",
    "%time vec_X = vec.fit_transform(full.GEN_SEQ.values)"
   ]
  },
  {
   "cell_type": "markdown",
   "metadata": {},
   "source": [
    "## Train [Novelty Classifier](http://scikit-learn.org/stable/modules/outlier_detection.html) on Reference Bacteria Data for it to treat outliers as human samples"
   ]
  },
  {
   "cell_type": "code",
   "execution_count": 62,
   "metadata": {},
   "outputs": [
    {
     "name": "stdout",
     "output_type": "stream",
     "text": [
      "CPU times: user 96 ms, sys: 0 ns, total: 96 ms\n",
      "Wall time: 95.2 ms\n"
     ]
    },
    {
     "data": {
      "text/plain": [
       "OneClassSVM(cache_size=200, coef0=0.0, degree=3, gamma='auto', kernel='rbf',\n",
       "      max_iter=-1, nu=0.5, random_state=None, shrinking=True, tol=0.001,\n",
       "      verbose=False)"
      ]
     },
     "execution_count": 62,
     "metadata": {},
     "output_type": "execute_result"
    }
   ],
   "source": [
    "novelty = OneClassSVM(kernel='rbf',)\n",
    "bac_idx = full[full.CLASS == 'bacteria'].index.values\n",
    "%time novelty.fit(vec_X[bac_idx])"
   ]
  },
  {
   "cell_type": "code",
   "execution_count": 75,
   "metadata": {
    "collapsed": true
   },
   "outputs": [],
   "source": [
    "preds = novelty.predict(vec_X)"
   ]
  },
  {
   "cell_type": "code",
   "execution_count": 81,
   "metadata": {},
   "outputs": [
    {
     "data": {
      "text/plain": [
       "82"
      ]
     },
     "execution_count": 81,
     "metadata": {},
     "output_type": "execute_result"
    }
   ],
   "source": [
    "len(preds[preds > 0])"
   ]
  },
  {
   "cell_type": "markdown",
   "metadata": {
    "collapsed": true
   },
   "source": [
    "## 82 out of the 2443186 samples from full dataset (which includes the training set) were classified as Bacteria.\n",
    "\n",
    "### 99.997% Human vs 0.003% Bacterial\n",
    "\n",
    "\n",
    "## Conclusion: We require much more model tuning before reporting any numbers.\n"
   ]
  }
 ],
 "metadata": {
  "kernelspec": {
   "display_name": "Python 3",
   "language": "python",
   "name": "python3"
  },
  "language_info": {
   "codemirror_mode": {
    "name": "ipython",
    "version": 3
   },
   "file_extension": ".py",
   "mimetype": "text/x-python",
   "name": "python",
   "nbconvert_exporter": "python",
   "pygments_lexer": "ipython3",
   "version": "3.6.3"
  }
 },
 "nbformat": 4,
 "nbformat_minor": 2
}
