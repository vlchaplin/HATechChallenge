{
 "cells": [
  {
   "cell_type": "code",
   "execution_count": 1,
   "metadata": {
    "collapsed": true
   },
   "outputs": [],
   "source": [
    "%matplotlib inline\n",
    "import matplotlib.pyplot as plt\n",
    "import matplotlib.cm as cm\n",
    "import seaborn as sns\n",
    "sns.set(style='darkgrid')\n",
    "\n",
    "import os\n",
    "import numpy as np\n",
    "import pandas as pd\n",
    "from sklearn.feature_extraction.text import CountVectorizer, TfidfTransformer\n",
    "from sklearn.preprocessing import FunctionTransformer\n",
    "from sklearn.pipeline import Pipeline\n",
    "from sklearn.manifold import TSNE\n",
    "from sklearn.decomposition import PCA"
   ]
  },
  {
   "cell_type": "code",
   "execution_count": 2,
   "metadata": {},
   "outputs": [
    {
     "name": "stdout",
     "output_type": "stream",
     "text": [
      "c4_bacterial_genome.csv  c4_sub_bacterial_genome.csv  Genomic_fna.csv\r\n"
     ]
    }
   ],
   "source": [
    "!ls *.csv"
   ]
  },
  {
   "cell_type": "code",
   "execution_count": 3,
   "metadata": {},
   "outputs": [
    {
     "data": {
      "text/html": [
       "<div>\n",
       "<style>\n",
       "    .dataframe thead tr:only-child th {\n",
       "        text-align: right;\n",
       "    }\n",
       "\n",
       "    .dataframe thead th {\n",
       "        text-align: left;\n",
       "    }\n",
       "\n",
       "    .dataframe tbody tr th {\n",
       "        vertical-align: top;\n",
       "    }\n",
       "</style>\n",
       "<table border=\"1\" class=\"dataframe\">\n",
       "  <thead>\n",
       "    <tr style=\"text-align: right;\">\n",
       "      <th></th>\n",
       "      <th>g_s</th>\n",
       "      <th>genome</th>\n",
       "      <th>tag</th>\n",
       "    </tr>\n",
       "  </thead>\n",
       "  <tbody>\n",
       "    <tr>\n",
       "      <th>0</th>\n",
       "      <td>Streptococcus_parauberis_KCTC_11537</td>\n",
       "      <td>ATGACAGAAAATGAACAAATTTTTTGGAATCGAATCTTGGAATTAG...</td>\n",
       "      <td>GCA_000213825.1</td>\n",
       "    </tr>\n",
       "    <tr>\n",
       "      <th>1</th>\n",
       "      <td>Streptococcus_pneumoniae_670-6B</td>\n",
       "      <td>TTTTATCTCACAAGGTTATCCACTATGTTTTTCGATAAAAAGCTTA...</td>\n",
       "      <td>GCA_000147095.1</td>\n",
       "    </tr>\n",
       "    <tr>\n",
       "      <th>2</th>\n",
       "      <td>Streptococcus_pneumoniae_gamPNI0373</td>\n",
       "      <td>TTTTATCTCACAAGGTTATCCACTATGTTTTTCGATAAAAAGCTTA...</td>\n",
       "      <td>GCA_000299015.1</td>\n",
       "    </tr>\n",
       "    <tr>\n",
       "      <th>3</th>\n",
       "      <td>Streptococcus_thermophilus_LMD-9</td>\n",
       "      <td>TTGTGGATAACCTCAAAATTTTTCTCTTTCTGACCTGTGGAAAACT...</td>\n",
       "      <td>GCA_000014485.1</td>\n",
       "    </tr>\n",
       "    <tr>\n",
       "      <th>4</th>\n",
       "      <td>Streptococcus_pyogenes_MGAS315</td>\n",
       "      <td>TTGTTGATATTCTGTTTTTTCTTTTTTAGTTTTCCACATAAAAAAT...</td>\n",
       "      <td>GCA_000007425.1</td>\n",
       "    </tr>\n",
       "  </tbody>\n",
       "</table>\n",
       "</div>"
      ],
      "text/plain": [
       "                                   g_s  \\\n",
       "0  Streptococcus_parauberis_KCTC_11537   \n",
       "1      Streptococcus_pneumoniae_670-6B   \n",
       "2  Streptococcus_pneumoniae_gamPNI0373   \n",
       "3     Streptococcus_thermophilus_LMD-9   \n",
       "4       Streptococcus_pyogenes_MGAS315   \n",
       "\n",
       "                                              genome              tag  \n",
       "0  ATGACAGAAAATGAACAAATTTTTTGGAATCGAATCTTGGAATTAG...  GCA_000213825.1  \n",
       "1  TTTTATCTCACAAGGTTATCCACTATGTTTTTCGATAAAAAGCTTA...  GCA_000147095.1  \n",
       "2  TTTTATCTCACAAGGTTATCCACTATGTTTTTCGATAAAAAGCTTA...  GCA_000299015.1  \n",
       "3  TTGTGGATAACCTCAAAATTTTTCTCTTTCTGACCTGTGGAAAACT...  GCA_000014485.1  \n",
       "4  TTGTTGATATTCTGTTTTTTCTTTTTTAGTTTTCCACATAAAAAAT...  GCA_000007425.1  "
      ]
     },
     "execution_count": 3,
     "metadata": {},
     "output_type": "execute_result"
    }
   ],
   "source": [
    "sub_gen = pd.read_csv('c4_bacterial_genome.csv')\n",
    "sub_gen.head()"
   ]
  },
  {
   "cell_type": "code",
   "execution_count": 4,
   "metadata": {
    "collapsed": true
   },
   "outputs": [],
   "source": [
    "sub_gen.g_s = sub_gen.g_s.str.replace('\\[|\\]','').str.strip()"
   ]
  },
  {
   "cell_type": "code",
   "execution_count": 5,
   "metadata": {},
   "outputs": [
    {
     "data": {
      "text/plain": [
       "343"
      ]
     },
     "execution_count": 5,
     "metadata": {},
     "output_type": "execute_result"
    }
   ],
   "source": [
    "len(sub_gen)"
   ]
  },
  {
   "cell_type": "code",
   "execution_count": 6,
   "metadata": {},
   "outputs": [
    {
     "name": "stdout",
     "output_type": "stream",
     "text": [
      "3836419\n",
      "1589620\n",
      "2051926.61224\n"
     ]
    }
   ],
   "source": [
    "lengths = [len(x) for x in sub_gen.genome.values]\n",
    "print(max(lengths))\n",
    "print(min(lengths))\n",
    "print(np.mean(lengths))"
   ]
  },
  {
   "cell_type": "code",
   "execution_count": 7,
   "metadata": {
    "collapsed": true
   },
   "outputs": [],
   "source": [
    "vec = CountVectorizer(analyzer='char',ngram_range=(5,5))\n",
    "tsne_pipe = Pipeline([\n",
    "    ('densifier',FunctionTransformer(lambda x : x.todense(), accept_sparse=True)),\n",
    "    ('tsne', TSNE(n_components=2,init='pca',perplexity=30,n_iter=2000))\n",
    "])"
   ]
  },
  {
   "cell_type": "code",
   "execution_count": 9,
   "metadata": {},
   "outputs": [
    {
     "name": "stdout",
     "output_type": "stream",
     "text": [
      "CPU times: user 4min 7s, sys: 8.58 s, total: 4min 16s\n",
      "Wall time: 4min 16s\n",
      "\n",
      "Number of features: 5603\n"
     ]
    }
   ],
   "source": [
    "# import re\n",
    "#print genus and species\n",
    "# y = np.array([genus[:genus.index('_', genus.index('_')+1)].lower() for genus in all_sub_gen.g_s.values if re.search('_.*_',genus)])\n",
    "#print only genus\n",
    "y = np.array([genus[:genus.index('_')].lower() for genus in sub_gen.g_s.values])\n",
    "%time vec_X = vec.fit_transform(sub_gen.genome.values)\n",
    "print(\"\\nNumber of features: %d\" % len(vec.vocabulary_))"
   ]
  },
  {
   "cell_type": "code",
   "execution_count": 10,
   "metadata": {},
   "outputs": [
    {
     "name": "stdout",
     "output_type": "stream",
     "text": [
      "CPU times: user 11.9 s, sys: 808 ms, total: 12.7 s\n",
      "Wall time: 10.9 s\n"
     ]
    }
   ],
   "source": [
    "%time X = tsne_pipe.fit_transform(vec_X)"
   ]
  },
  {
   "cell_type": "code",
   "execution_count": 15,
   "metadata": {},
   "outputs": [
    {
     "data": {
      "text/plain": [
       "<matplotlib.legend.Legend at 0x7fc79bf9cd30>"
      ]
     },
     "execution_count": 15,
     "metadata": {},
     "output_type": "execute_result"
    },
    {
     "data": {
      "image/png": "[encoded data removed]",
      "text/plain": [
       "<matplotlib.figure.Figure at 0x7fc79bfa75c0>"
      ]
     },
     "metadata": {},
     "output_type": "display_data"
    }
   ],
   "source": [
    "fig = plt.figure(figsize=(14,7))\n",
    "ax = fig.add_subplot(111, projection=None)\n",
    "\n",
    "colors = ['blue','red','orange','green','m','c']\n",
    "for i,cl in enumerate(np.unique(y)):\n",
    "    ax.scatter(X[y == cl][:,0],\n",
    "               X[y == cl][:,1],\n",
    "               c = colors[i], marker='o', \n",
    "               label = cl, s = 50)\n",
    "ax.legend(loc='upper right')"
   ]
  }
 ],
 "metadata": {
  "kernelspec": {
   "display_name": "Python 3",
   "language": "python",
   "name": "python3"
  },
  "language_info": {
   "codemirror_mode": {
    "name": "ipython",
    "version": 3
   },
   "file_extension": ".py",
   "mimetype": "text/x-python",
   "name": "python",
   "nbconvert_exporter": "python",
   "pygments_lexer": "ipython3",
   "version": "3.6.3"
  }
 },
 "nbformat": 4,
 "nbformat_minor": 2
}
